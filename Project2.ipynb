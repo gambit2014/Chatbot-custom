{
 "cells": [
  {
   "cell_type": "code",
   "execution_count": null,
   "metadata": {},
   "outputs": [],
   "source": [
    "# Custom Chatbot Project"
   ]
  },
  {
   "cell_type": "code",
   "execution_count": null,
   "metadata": {},
   "outputs": [],
   "source": [
    "#TODO: The character_descriptions.csv dataset is ideal for this task because it provides detailed and diverse information about fictional characters from various media, including theater, television, and film productions. \n",
    "# Each entry includes the character's name, description and setting, offering rich contextual information. \n",
    "# It allows the chatbot to provide accurate answers about character traits, backgrounds, and roles, enhancing user engagement and satisfaction. \n",
    "# Dataset's diversity supports a wide range of queries, making it a valuable resource for fans, researchers, and educators seeking to explore character motivations and development."
   ]
  },
  {
   "cell_type": "code",
   "execution_count": 1,
   "metadata": {},
   "outputs": [
    {
     "name": "stdout",
     "output_type": "stream",
     "text": [
      "    Name                                        Description Medium  Setting\n",
      "0  Emily  A young woman in her early 20s, Emily is an as...   Play  England\n",
      "1   Jack  A middle-aged man in his 40s, Jack is a succes...   Play  England\n",
      "2  Alice  A woman in her late 30s, Alice is a warm and n...   Play  England\n",
      "3    Tom  A man in his 50s, Tom is a retired soldier and...   Play  England\n",
      "4  Sarah  A woman in her mid-20s, Sarah is a free-spirit...   Play  England\n"
     ]
    }
   ],
   "source": [
    "import pandas as pd\n",
    "\n",
    "# Check path\n",
    "file_path = r'C:\\Users\\user\\AppData\\Local\\Programs\\Microsoft VS Code\\Datafolder\\character_descriptions.csv'\n",
    "df = pd.read_csv(file_path)\n",
    "\n",
    "# verify\n",
    "print(df.head())\n"
   ]
  },
  {
   "cell_type": "code",
   "execution_count": null,
   "metadata": {},
   "outputs": [
    {
     "name": "stdout",
     "output_type": "stream",
     "text": [
      "Number of rows: 55\n",
      "\n",
      "Sample text entry:\n",
      "Character: Emily\n",
      "Description: A young woman in her early 20s, Emily is an aspiring actress and Alice's daughter. She has a bubbly personality and a quick wit, but struggles with self-doubt and insecurity. She's also in a relationship with George.\n",
      "Medium: Play\n",
      "Setting: England\n"
     ]
    }
   ],
   "source": [
    "from openai import OpenAI\n",
    "import time\n",
    "\n",
    "# API\n",
    "client = OpenAI(\n",
    "    base_url=\"https://openai.vocareum.com/v1\",\n",
    "    api_key=\"YOUR API KEY\"  \n",
    ")\n",
    "\n",
    "# Load the datasetPATH !!!!\n",
    "file_path = r'C:\\Users\\user\\AppData\\Local\\Programs\\Microsoft VS Code\\Datafolder\\character_descriptions.csv'\n",
    "df = pd.read_csv(file_path)\n",
    "\n",
    "# Create the text column by combining all relevant information\n",
    "df['text'] = df.apply(lambda row: f\"Character: {row['Name']}\\nDescription: {row['Description']}\\n\" +\n",
    "                                 f\"Medium: {row['Medium']}\\nSetting: {row['Setting']}\", axis=1)\n",
    "\n",
    "# Verify enough data\n",
    "print(f\"Number of rows: {len(df)}\")\n",
    "print(\"\\nSample text entry:\")\n",
    "print(df['text'].iloc[0])\n"
   ]
  },
  {
   "cell_type": "code",
   "execution_count": null,
   "metadata": {},
   "outputs": [],
   "source": [
    "def get_response(prompt, use_custom=True):\n",
    "    \"\"\"Get response from the model\"\"\"\n",
    "    if use_custom:\n",
    "        system_msg = f\"\"\"You are a helpful assistant knowledgeable about various fictional characters.\n",
    "        Use this character information to answer questions:\n",
    "\n",
    "        {context}\n",
    "\n",
    "        If a question cannot be answered using these character descriptions, provide a general response\n",
    "        but mention that it's not based on the provided character dataset.\"\"\"\n",
    "    else:\n",
    "        system_msg = \"You are a helpful assistant.\"\n",
    "\n",
    "    try:\n",
    "        # MODEL\n",
    "        response = client.chat.completions.create(\n",
    "            model=\"gpt-3.5-turbo\",\n",
    "            messages=[\n",
    "                {\"role\": \"system\", \"content\": system_msg},\n",
    "                {\"role\": \"user\", \"content\": prompt}\n",
    "            ],\n",
    "            temperature=0.7,\n",
    "            max_tokens=500\n",
    "        )\n",
    "\n",
    "       \n",
    "        if response.choices:\n",
    "            return response.choices[0].message.content.strip()\n",
    "        else:\n",
    "            return \"Error: No choices found in the response.\"\n",
    "\n",
    "    except Exception as e:\n",
    "        return f\"Error: {str(e)}\"\n",
    "\n",
    "context = \"\\n\\n\".join(df['text'].tolist())"
   ]
  },
  {
   "cell_type": "code",
   "execution_count": 4,
   "metadata": {},
   "outputs": [
    {
     "name": "stdout",
     "output_type": "stream",
     "text": [
      "\n",
      "Question 1: What characters in the dataset are from Estonia, and what are their main characteristics?\n",
      "\n",
      "Without custom data:\n",
      "To provide you with specific information about characters from Estonia in a dataset, I would need access to the dataset itself. Once you share the dataset with me or provide me with the relevant information, I can help identify the characters from Estonia and outline their main characteristics. Let me know how I can assist you further.\n",
      "\n",
      "With custom data:\n",
      "There are no characters in the provided dataset that are from Estonia. Therefore, I cannot provide specific character information related to Estonia. If you have any other questions or need information on characters from different locations or backgrounds, feel free to ask!\n"
     ]
    }
   ],
   "source": [
    "\n",
    "# Test questions\n",
    "question1 = \"What characters in the dataset are from Estonia, and what are their main characteristics?\"\n",
    "\n",
    "print(\"\\nQuestion 1:\", question1)\n",
    "print(\"\\nWithout custom data:\")\n",
    "print(get_response(question1, use_custom=False))\n",
    "print(\"\\nWith custom data:\")\n",
    "print(get_response(question1, use_custom=True))\n",
    "\n"
   ]
  },
  {
   "cell_type": "code",
   "execution_count": 5,
   "metadata": {},
   "outputs": [
    {
     "name": "stdout",
     "output_type": "stream",
     "text": [
      "\n",
      "Question 2: Could you tell me about the different age ranges of characters in plays?\n",
      "\n",
      "Without custom data:\n",
      "Certainly! In plays, characters can span a wide range of ages, each bringing a unique perspective and role to the story. Here are some common age ranges of characters in plays:\n",
      "\n",
      "1. Children/Youth: Characters in this age group are typically under 18 years old. They may be portrayed as innocent, curious, and full of youthful energy. Children and youth characters often serve as catalysts for the plot or provide comic relief.\n",
      "\n",
      "2. Young Adults: Characters in their late teens to early twenties fall into this age range. They are often depicted as navigating the challenges of coming of age, exploring their identity, and making important life decisions.\n",
      "\n",
      "3. Middle-aged Adults: Characters in their 30s to 50s are considered middle-aged adults. They may be portrayed as dealing with career, family, and relationship issues. These characters often bring a level of experience and wisdom to the storyline.\n",
      "\n",
      "4. Seniors/Elderly: Characters in this age group are typically 60 years old and above. They may offer a perspective on life that is shaped by experience, wisdom, and reflection. Senior characters can provide mentorship, guidance, or serve as a source of comic relief in a play.\n",
      "\n",
      "Each age range brings its own set of characteristics and experiences to the stage, contributing to the richness and diversity of storytelling in plays.\n",
      "\n",
      "With custom data:\n",
      "Based on the provided character descriptions from plays, the age ranges vary widely:\n",
      "\n",
      "- Young characters in their early 20s: Emily, Sarah, Tahlia\n",
      "- Middle-aged characters in their 40s: Jack, Lucas\n",
      "- Characters in their late 30s: Alice\n",
      "- Characters in their 50s: Tom, Manuel\n",
      "- Characters in their 60s: John\n",
      "\n",
      "These age ranges cover a spectrum of life stages and experiences, providing a diverse range of characters in plays.\n"
     ]
    }
   ],
   "source": [
    "question2 = \"Could you tell me about the different age ranges of characters in plays?\"\n",
    "\n",
    "print(\"\\nQuestion 2:\", question2)\n",
    "print(\"\\nWithout custom data:\")\n",
    "print(get_response(question2, use_custom=False))\n",
    "print(\"\\nWith custom data:\")\n",
    "print(get_response(question2, use_custom=True))"
   ]
  },
  {
   "cell_type": "code",
   "execution_count": null,
   "metadata": {},
   "outputs": [],
   "source": []
  }
 ],
 "metadata": {
  "kernelspec": {
   "display_name": "Python 3",
   "language": "python",
   "name": "python3"
  },
  "language_info": {
   "codemirror_mode": {
    "name": "ipython",
    "version": 3
   },
   "file_extension": ".py",
   "mimetype": "text/x-python",
   "name": "python",
   "nbconvert_exporter": "python",
   "pygments_lexer": "ipython3",
   "version": "3.9.13"
  }
 },
 "nbformat": 4,
 "nbformat_minor": 2
}
